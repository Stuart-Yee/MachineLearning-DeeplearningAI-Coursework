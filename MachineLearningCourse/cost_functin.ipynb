{
 "cells": [
  {
   "cell_type": "markdown",
   "source": [
    "## Cost Function\n",
    "\n",
    "When choosing a linear function for a regression line, we need to measure whether we have found a regression line that best fits the training data.\n",
    "\n",
    "This cost function is known as J(w,b) whereas w and b are parameters represented in the linear function as: \n",
    "f(x) = wx + b\n",
    "\n",
    "(w corresponds to the slope and b corresponds to the Y-intercept from the classic y = mx+b linear equation)\n",
    "\n",
    "### Function\n",
    "\n",
    "## $J(w,b) = \\frac{1}{2m}\\sum_{i=1}^{m} (fw,b(x^{(i)})-y^{(i)})^2$"
   ],
   "metadata": {
    "collapsed": false
   },
   "id": "d48504340168bc46"
  },
  {
   "cell_type": "code",
   "execution_count": null,
   "outputs": [],
   "source": [
    "import numpy as np\n",
    "\n",
    "def cost_function(w: float, b: float, x_data: np.array, y_data: np.array) -> float:\n",
    "    if x_data.shape[0] != y_data.shape[0]:\n",
    "        raise Exception('x_data and y_data must have the same number of data points')\n",
    "    m = x_data.shape[0]\n",
    "    cost_sum = 0\n",
    "    for i in range(m):\n",
    "        predicted_y = w * x_data[i] + b\n",
    "        cost_sum += (predicted_y - y_data[i])**2\n",
    "    return cost_sum/(2*m)"
   ],
   "metadata": {
    "collapsed": false
   },
   "id": "38c397761c77ada9"
  }
 ],
 "metadata": {
  "kernelspec": {
   "display_name": "Python 3",
   "language": "python",
   "name": "python3"
  },
  "language_info": {
   "codemirror_mode": {
    "name": "ipython",
    "version": 2
   },
   "file_extension": ".py",
   "mimetype": "text/x-python",
   "name": "python",
   "nbconvert_exporter": "python",
   "pygments_lexer": "ipython2",
   "version": "2.7.6"
  }
 },
 "nbformat": 4,
 "nbformat_minor": 5
}
