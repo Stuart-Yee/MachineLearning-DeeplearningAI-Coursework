{
 "cells": [
  {
   "cell_type": "markdown",
   "source": [
    "Mulitple regression is a version of linear regression in which there are multiple values for x.\n",
    "\n",
    "Each value of $x$ is a \"feature\". An example of different features might be square footage, number of bedrooms and age of a home to determine price as $y$.\n",
    "\n",
    "Each feature will have its on weight $w$.\n",
    "\n",
    "The equation would look something like:\n",
    "## $fw,b(x) = w_1x_1 + w_2x_2 + w_nx_n +b$"
   ],
   "metadata": {
    "collapsed": false
   },
   "id": "6e00ac9e9adfd41f"
  },
  {
   "cell_type": "code",
   "execution_count": 7,
   "outputs": [],
   "source": [
    "import numpy as np\n",
    "\n",
    "# Representing as a numpy array\n",
    "x = np.array([1, 2, 3, 4])\n",
    "w = np.array([.01, 4, 8, -2])\n",
    "b = 80\n",
    "\n",
    "def find_y(x: np.array, w: np.array, b: int) -> float:\n",
    "    #dot sum\n",
    "    ds = 0\n",
    "    for j in range(0, x.shape[0]):\n",
    "        ds += x[j]*w[j]\n",
    "    y = ds + b\n",
    "    return y"
   ],
   "metadata": {
    "collapsed": false,
    "ExecuteTime": {
     "end_time": "2024-01-06T21:24:19.803562100Z",
     "start_time": "2024-01-06T21:24:19.797563Z"
    }
   },
   "id": "9cb8795589dd8cec"
  },
  {
   "cell_type": "code",
   "execution_count": 8,
   "outputs": [],
   "source": [
    "#using numpy\n",
    "\n",
    "def find_y_vectorized(x: np.array, w: np.array, b: int) -> float:\n",
    "    return np.dot(x, w) + b"
   ],
   "metadata": {
    "collapsed": false,
    "ExecuteTime": {
     "end_time": "2024-01-06T21:25:29.715166700Z",
     "start_time": "2024-01-06T21:25:29.695148Z"
    }
   },
   "id": "562643af582ac085"
  },
  {
   "cell_type": "code",
   "execution_count": 11,
   "outputs": [
    {
     "name": "stdout",
     "output_type": "stream",
     "text": [
      "104.00999999999999\n"
     ]
    }
   ],
   "source": [
    "looped = find_y(x, w, b)\n",
    "\n",
    "\n",
    "print(looped)\n"
   ],
   "metadata": {
    "collapsed": false,
    "ExecuteTime": {
     "end_time": "2024-01-06T21:43:58.637147800Z",
     "start_time": "2024-01-06T21:43:58.612574100Z"
    }
   },
   "id": "b8c2028cf79ef7"
  },
  {
   "cell_type": "code",
   "execution_count": 12,
   "outputs": [
    {
     "name": "stdout",
     "output_type": "stream",
     "text": [
      "104.00999999999999\n"
     ]
    }
   ],
   "source": [
    "vectorized = find_y_vectorized(x, w, b)\n",
    "print(vectorized)"
   ],
   "metadata": {
    "collapsed": false,
    "ExecuteTime": {
     "end_time": "2024-01-06T21:44:03.483560100Z",
     "start_time": "2024-01-06T21:44:03.475047200Z"
    }
   },
   "id": "7c2867d575c7804d"
  },
  {
   "cell_type": "code",
   "execution_count": null,
   "outputs": [],
   "source": [],
   "metadata": {
    "collapsed": false
   },
   "id": "b6f295bd0a9e3a18"
  }
 ],
 "metadata": {
  "kernelspec": {
   "display_name": "Python 3",
   "language": "python",
   "name": "python3"
  },
  "language_info": {
   "codemirror_mode": {
    "name": "ipython",
    "version": 2
   },
   "file_extension": ".py",
   "mimetype": "text/x-python",
   "name": "python",
   "nbconvert_exporter": "python",
   "pygments_lexer": "ipython2",
   "version": "2.7.6"
  }
 },
 "nbformat": 4,
 "nbformat_minor": 5
}
