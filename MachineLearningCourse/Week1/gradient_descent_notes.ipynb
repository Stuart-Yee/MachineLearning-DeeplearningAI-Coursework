{
 "cells": [
  {
   "cell_type": "code",
   "execution_count": null,
   "outputs": [],
   "source": [],
   "metadata": {
    "collapsed": false
   },
   "id": "cf09b18362fe4bb3"
  },
  {
   "cell_type": "markdown",
   "source": [
    "## Gradient descent algorithm\n",
    "\n",
    "### $w = w-\\alpha \\frac{d}{dw}J(w,b)$\n",
    "\n",
    "### $b = b-\\alpha \\frac{d}{db}J(w,b)$\n",
    "\n",
    "Simultaneously update w and b\n"
   ],
   "metadata": {
    "collapsed": false
   },
   "id": "b9d97ef629d20c02"
  },
  {
   "cell_type": "code",
   "execution_count": null,
   "outputs": [],
   "source": [],
   "metadata": {
    "collapsed": false
   },
   "id": "5aab7447a891fcd1"
  }
 ],
 "metadata": {
  "kernelspec": {
   "display_name": "Python 3",
   "language": "python",
   "name": "python3"
  },
  "language_info": {
   "codemirror_mode": {
    "name": "ipython",
    "version": 2
   },
   "file_extension": ".py",
   "mimetype": "text/x-python",
   "name": "python",
   "nbconvert_exporter": "python",
   "pygments_lexer": "ipython2",
   "version": "2.7.6"
  }
 },
 "nbformat": 4,
 "nbformat_minor": 5
}
